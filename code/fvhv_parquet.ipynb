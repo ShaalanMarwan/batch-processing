{
 "cells": [
  {
   "cell_type": "code",
   "execution_count": 1,
   "id": "488d90ca",
   "metadata": {},
   "outputs": [],
   "source": [
    "base_url = \"https://github.com/DataTalksClub/nyc-tlc-data/releases/download/fhvhv/fhvhv_tripdata_2021-06.csv.gz\""
   ]
  },
  {
   "cell_type": "code",
   "execution_count": 2,
   "id": "08de9ed4",
   "metadata": {},
   "outputs": [],
   "source": [
    "import requests"
   ]
  },
  {
   "cell_type": "code",
   "execution_count": 3,
   "id": "1eed4078",
   "metadata": {},
   "outputs": [],
   "source": [
    "from pyspark.sql import SparkSession\n",
    "from pyspark.sql.types import (\n",
    "    StructType,\n",
    "    StructField,\n",
    "    IntegerType,\n",
    "    DoubleType,\n",
    "    StringType,\n",
    "    TimestampType,\n",
    ")"
   ]
  },
  {
   "cell_type": "code",
   "execution_count": 5,
   "id": "07606bdb",
   "metadata": {},
   "outputs": [],
   "source": [
    "schema = StructType(\n",
    "        [\n",
    "            StructField(\"dispatching_base_num\", IntegerType(), True),\n",
    "            StructField(\"pickup_datetime\", TimestampType(), True),\n",
    "            StructField(\"dropoff_datetime\", TimestampType(), True),\n",
    "            StructField(\"PULocationID\", IntegerType(), True),\n",
    "            StructField(\"DOLocationID\", IntegerType(), True),\n",
    "            StructField(\"SR_Flag\", StringType(), True),\n",
    "            StructField(\"Affiliated_base_number\", StringType(), True),\n",
    "        ]\n",
    ")\n"
   ]
  },
  {
   "cell_type": "code",
   "execution_count": 12,
   "id": "f721af06",
   "metadata": {},
   "outputs": [],
   "source": [
    "spark = SparkSession.builder \\\n",
    "        .appName(\"default\") \\\n",
    "        .master(\"local[*]\") \\\n",
    "        .config(\"spark.executor.memory\", \"2048mb\") \\\n",
    "        .getOrCreate()\n",
    "\n",
    "spark_df = spark.read.option(\"header\", \"true\").schema(\n",
    "        schema).csv('./fhv_tripdata_2021-06.csv')"
   ]
  },
  {
   "cell_type": "code",
   "execution_count": 13,
   "id": "2c3191ff",
   "metadata": {},
   "outputs": [
    {
     "name": "stderr",
     "output_type": "stream",
     "text": [
      "[Stage 2:>                                                         (0 + 8) / 12]\r"
     ]
    },
    {
     "name": "stdout",
     "output_type": "stream",
     "text": [
      "23/03/05 16:22:14 WARN MemoryManager: Total allocation exceeds 95.00% (1,020,054,720 bytes) of heap memory\n",
      "Scaling row group sizes to 95.00% for 8 writers\n"
     ]
    },
    {
     "name": "stderr",
     "output_type": "stream",
     "text": [
      "                                                                                \r"
     ]
    }
   ],
   "source": [
    "spark_df.repartition(12).write.parquet('./fvhv/', mode=\"overwrite\")"
   ]
  },
  {
   "cell_type": "code",
   "execution_count": null,
   "id": "c3fda98e",
   "metadata": {},
   "outputs": [],
   "source": []
  }
 ],
 "metadata": {
  "kernelspec": {
   "display_name": "Python 3 (ipykernel)",
   "language": "python",
   "name": "python3"
  },
  "language_info": {
   "codemirror_mode": {
    "name": "ipython",
    "version": 3
   },
   "file_extension": ".py",
   "mimetype": "text/x-python",
   "name": "python",
   "nbconvert_exporter": "python",
   "pygments_lexer": "ipython3",
   "version": "3.9.16"
  }
 },
 "nbformat": 4,
 "nbformat_minor": 5
}
